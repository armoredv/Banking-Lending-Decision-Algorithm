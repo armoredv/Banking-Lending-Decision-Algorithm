{
 "cells": [
  {
   "cell_type": "code",
   "execution_count": 1,
   "metadata": {
    "id": "6iAbvkRs9xJP"
   },
   "outputs": [],
   "source": [
    "from numpy.random import randint\n",
    "from numpy.random import rand\n",
    "#format of the data \n",
    "#[Loan Size(L), interest(rl),rating, loss(lambda)]\n",
    "#Customers details provided in the question \n",
    "customers = [[10,0.021,'AAA',0.0002],\n",
    "             [25,0.022,'BB',0.0058],\n",
    "             [4,0.021,'A',0.001],\n",
    "             [11,0.027,'AA',0.0003],\n",
    "             [18,0.025,'BBB',0.0024],\n",
    "             [3,0.026,'AAA',0.0002],\n",
    "             [17,0.023,'BB',0.0058],\n",
    "             [15,0.021,'AAA',0.0002],\n",
    "             [9,0.028,'A',0.001],\n",
    "             [10,0.022,'A',0.001]             \n",
    "    \n",
    "]\n",
    "D = 60\n",
    "K = 0.15"
   ]
  },
  {
   "cell_type": "code",
   "execution_count": 2,
   "metadata": {
    "id": "glztx_TJIsNL"
   },
   "outputs": [],
   "source": [
    "# objective function (Basically fitness function)\n",
    "# rl * L  - lambda +  rt*Transactional cost  - 0.009*D - lambda\n",
    "def fitness(x):\n",
    "  sum  = -0.009*D\n",
    "  for i in range(0,10):\n",
    "    if x[i] == 1:\n",
    "      sum = sum + customers[i][1]*customers[i][0] - 2*customers[i][3] + 0.01 * ((1-K)*D - customers[i][0]) \n",
    "  return (sum)"
   ]
  },
  {
   "cell_type": "code",
   "execution_count": 3,
   "metadata": {
    "id": "fSLFe1iRqoZn"
   },
   "outputs": [],
   "source": [
    "#Genetic Validation\n",
    "def validation(x):\n",
    "  sum = 0\n",
    "  for i in range(0,10):\n",
    "    if x[i] == 1:\n",
    "      sum = sum + customers[i][0] \n",
    "  return (sum)  "
   ]
  },
  {
   "cell_type": "code",
   "execution_count": 13,
   "metadata": {
    "id": "r2LJ_WFnAKC4"
   },
   "outputs": [],
   "source": []
  },
  {
   "cell_type": "code",
   "execution_count": 4,
   "metadata": {
    "id": "fG6QbwlmnZGN"
   },
   "outputs": [],
   "source": [
    "#ROULLETE WHEEL SELECTION METHOD\n",
    "#GENERATING THE CUMULATIVE PROB OF SELECTING THE CHROMOSOME BASED ON FITNESS \n",
    "#SELECTING THE INDIVIDUAL USING RANDOM NUMBERS \n",
    "def roulette_select(population, num):\n",
    "    fitnesses = [fitness(i) for i in population]\n",
    "    total_fitness = float(sum(fitnesses))\n",
    "    rel_fitness = [f/total_fitness for f in fitnesses]\n",
    "    probs = [sum(rel_fitness[:i+1]) for i in range(len(rel_fitness))]\n",
    "    new_population = []\n",
    "    for n in range(num):\n",
    "        r = rand()\n",
    "        for (i, individual) in enumerate(population):\n",
    "            if r <= probs[i]:\n",
    "                new_population.append(individual)\n",
    "                break\n",
    "    return new_population"
   ]
  },
  {
   "cell_type": "code",
   "execution_count": 5,
   "metadata": {
    "id": "8V2zzTg-_stA"
   },
   "outputs": [],
   "source": [
    "#SINGLE POINT CROSS-OVER WHERE R_CROSS IS CROSSOVER PROBABLILITY\n",
    "#IMPLEMENTED GENETIC VALIDATION AS WELL SO THAT NEWLY GENERATED CHROMOSOMS FOLLOW'S CONSTRAINTS\n",
    "def crossover(p1, p2, r_cross):\n",
    "  c1, c2 = p1.copy(), p2.copy() \n",
    "  if rand() < r_cross:\n",
    "    pt = randint(1, len(p1)-2)\n",
    "    c1 = p1[:pt] + p2[pt:]\n",
    "    c2 = p2[:pt] + p1[pt:]\n",
    "  if validation(c1) > (1-K)*D :\n",
    "    c1 = p1\n",
    "  if validation(c2) > (1-K)*D :\n",
    "    c2 = p2\n",
    "  return [c1, c2]\n",
    "\n"
   ]
  },
  {
   "cell_type": "code",
   "execution_count": 6,
   "metadata": {
    "id": "pN7Bzixi_vMy"
   },
   "outputs": [],
   "source": [
    "#IMPLEMENTED MUTATION USING MUTATION PROB.\n",
    "#IMPLEMENTED GENETIC VALIDATION AS WELL\n",
    "def mutation(bitstring, r_mut):\n",
    "  for i in range(len(bitstring)):\n",
    "    if rand() < r_mut:\n",
    "      bitstring[i] = 1 - bitstring[i]   \n",
    "      if validation(bitstring)>((1-K)*D) :\n",
    "        bitstring[i] = 1 - bitstring[i]\n",
    "\n"
   ]
  },
  {
   "cell_type": "code",
   "execution_count": 7,
   "metadata": {
    "id": "N40enhq8_xhv"
   },
   "outputs": [],
   "source": [
    "#GENETIC ALGORITHM\n",
    "def genetic_algorithm(objective, n_bits, n_iter, n_pop, r_cross, r_mut):\n",
    "    pop = []\n",
    "    i = 1\n",
    "    while i <= n_pop:\n",
    "        curr = randint(0, 2, n_bits).tolist()\n",
    "        if validation(curr)<= (1-K)*D:\n",
    "          pop.append(curr)\n",
    "          i = i +1\n",
    "    best,best_eval = 0, objective(pop[0])\n",
    "    for gen in range(n_iter):\n",
    "        scores = [objective(c) for c in pop]\n",
    "        for i in range(n_pop):\n",
    "          if scores[i] > best_eval:\n",
    "            best, best_eval = pop[i], scores[i]\n",
    "        print(\"Generation %d, New Best fitness(%s) = %.3f\" % (gen,  pop[i], scores[i]))\n",
    "        selected = roulette_select(pop,n_pop)\n",
    "        children = list()\n",
    "        for i in range(0, n_pop, 2):\n",
    "          p1, p2 = selected[i], selected[i+1]\n",
    "          for c in crossover(p1, p2, r_cross):\n",
    "            mutation(c, r_mut)\n",
    "            children.append(c)\n",
    "        pop = children\n",
    "    return [best, best_eval]\n",
    "\n"
   ]
  },
  {
   "cell_type": "code",
   "execution_count": 64,
   "metadata": {
    "colab": {
     "base_uri": "https://localhost:8080/"
    },
    "id": "uXpiiPTG_z9_",
    "outputId": "de4228e6-367f-4af0-cc70-2537c3fd3b41"
   },
   "outputs": [
    {
     "name": "stdout",
     "output_type": "stream",
     "text": [
      "Generation 0, New Best fitness([1, 0, 1, 1, 0, 0, 0, 1, 0, 1]) = 2.631\n",
      "Generation 1, New Best fitness([1, 0, 1, 0, 0, 0, 0, 1, 0, 0]) = 1.306\n",
      "Generation 2, New Best fitness([1, 0, 1, 0, 1, 1, 0, 0, 0, 1]) = 2.592\n",
      "Generation 3, New Best fitness([1, 0, 1, 1, 0, 0, 0, 1, 0, 1]) = 2.631\n",
      "Generation 4, New Best fitness([1, 0, 1, 1, 0, 0, 0, 1, 1, 0]) = 2.673\n",
      "Generation 5, New Best fitness([1, 0, 1, 1, 0, 0, 0, 1, 1, 0]) = 2.673\n",
      "Generation 6, New Best fitness([1, 0, 1, 0, 1, 1, 0, 0, 0, 1]) = 2.592\n",
      "Generation 7, New Best fitness([0, 0, 1, 0, 1, 0, 0, 1, 0, 0]) = 1.462\n",
      "Generation 8, New Best fitness([1, 0, 1, 0, 1, 1, 0, 0, 0, 1]) = 2.592\n",
      "Generation 9, New Best fitness([1, 0, 1, 1, 0, 0, 1, 0, 1, 0]) = 2.717\n",
      "Generation 10, New Best fitness([0, 0, 1, 1, 0, 0, 1, 0, 1, 0]) = 2.098\n",
      "Generation 11, New Best fitness([1, 0, 1, 1, 0, 0, 0, 1, 0, 1]) = 2.631\n",
      "Generation 12, New Best fitness([1, 0, 1, 0, 1, 0, 0, 0, 0, 1]) = 2.035\n",
      "Generation 13, New Best fitness([1, 0, 1, 1, 0, 0, 1, 0, 1, 0]) = 2.717\n",
      "Generation 14, New Best fitness([1, 0, 1, 0, 1, 1, 0, 0, 0, 1]) = 2.592\n",
      "Generation 15, New Best fitness([1, 0, 1, 1, 0, 0, 1, 0, 1, 0]) = 2.717\n",
      "Generation 16, New Best fitness([1, 0, 1, 0, 1, 1, 0, 0, 0, 1]) = 2.592\n",
      "Generation 17, New Best fitness([1, 0, 1, 0, 1, 1, 0, 0, 0, 1]) = 2.592\n",
      "Generation 18, New Best fitness([1, 0, 1, 0, 1, 1, 0, 0, 0, 1]) = 2.592\n",
      "Generation 19, New Best fitness([1, 0, 1, 0, 1, 1, 0, 0, 0, 1]) = 2.592\n",
      "Generation 20, New Best fitness([0, 0, 1, 1, 0, 1, 0, 0, 0, 1]) = 1.894\n",
      "Generation 21, New Best fitness([1, 0, 1, 1, 0, 0, 1, 0, 1, 0]) = 2.717\n",
      "Generation 22, New Best fitness([1, 0, 1, 0, 1, 1, 0, 0, 0, 1]) = 2.592\n",
      "Generation 23, New Best fitness([0, 0, 1, 0, 0, 0, 1, 0, 1, 0]) = 1.401\n",
      "Generation 24, New Best fitness([1, 0, 1, 1, 0, 1, 0, 0, 0, 1]) = 2.514\n",
      "Generation 25, New Best fitness([1, 0, 1, 1, 0, 0, 0, 0, 1, 0]) = 1.998\n",
      "Generation 26, New Best fitness([1, 0, 1, 1, 0, 0, 0, 0, 0, 1]) = 1.956\n",
      "Generation 27, New Best fitness([1, 0, 1, 1, 0, 0, 1, 0, 1, 0]) = 2.717\n",
      "Generation 28, New Best fitness([1, 0, 1, 0, 0, 1, 0, 0, 0, 1]) = 1.817\n",
      "Generation 29, New Best fitness([1, 0, 1, 0, 1, 1, 0, 0, 1, 0]) = 2.634\n",
      "Generation 30, New Best fitness([1, 0, 1, 0, 1, 1, 0, 0, 1, 0]) = 2.634\n",
      "Generation 31, New Best fitness([1, 0, 1, 0, 0, 0, 1, 0, 1, 0]) = 2.021\n",
      "Generation 32, New Best fitness([1, 0, 1, 0, 1, 1, 0, 0, 1, 0]) = 2.634\n",
      "Generation 33, New Best fitness([1, 0, 1, 1, 0, 0, 1, 0, 1, 0]) = 2.717\n",
      "Generation 34, New Best fitness([1, 0, 1, 1, 0, 0, 1, 0, 1, 0]) = 2.717\n",
      "Generation 35, New Best fitness([1, 0, 1, 1, 0, 1, 0, 0, 1, 0]) = 2.556\n",
      "Generation 36, New Best fitness([1, 0, 1, 1, 0, 0, 1, 0, 1, 0]) = 2.717\n",
      "Generation 37, New Best fitness([1, 0, 1, 1, 0, 1, 0, 0, 1, 0]) = 2.556\n",
      "Generation 38, New Best fitness([1, 0, 1, 1, 0, 0, 1, 0, 1, 0]) = 2.717\n",
      "Generation 39, New Best fitness([1, 0, 1, 1, 0, 0, 1, 0, 1, 0]) = 2.717\n",
      "Generation 40, New Best fitness([1, 0, 1, 0, 0, 0, 1, 0, 1, 0]) = 2.021\n",
      "Generation 41, New Best fitness([1, 0, 1, 0, 1, 1, 0, 0, 1, 0]) = 2.634\n",
      "Generation 42, New Best fitness([1, 0, 1, 1, 0, 0, 1, 0, 1, 0]) = 2.717\n",
      "Generation 43, New Best fitness([1, 0, 1, 1, 0, 0, 1, 0, 1, 0]) = 2.717\n",
      "Generation 44, New Best fitness([1, 0, 1, 0, 1, 1, 0, 0, 1, 0]) = 2.634\n",
      "Generation 45, New Best fitness([1, 0, 1, 0, 1, 1, 0, 0, 1, 0]) = 2.634\n",
      "Generation 46, New Best fitness([1, 0, 1, 0, 0, 0, 1, 0, 1, 0]) = 2.021\n",
      "Generation 47, New Best fitness([1, 0, 1, 1, 0, 1, 0, 0, 1, 0]) = 2.556\n",
      "Generation 48, New Best fitness([1, 0, 1, 1, 0, 0, 1, 0, 1, 0]) = 2.717\n",
      "Generation 49, New Best fitness([1, 0, 1, 1, 0, 0, 1, 0, 1, 0]) = 2.717\n",
      "Generation 50, New Best fitness([1, 0, 1, 1, 0, 1, 0, 0, 1, 0]) = 2.556\n",
      "Generation 51, New Best fitness([1, 0, 1, 1, 0, 1, 0, 0, 1, 0]) = 2.556\n",
      "Generation 52, New Best fitness([1, 0, 1, 1, 0, 0, 1, 0, 1, 0]) = 2.717\n",
      "Generation 53, New Best fitness([1, 0, 1, 1, 0, 1, 0, 0, 1, 0]) = 2.556\n",
      "Generation 54, New Best fitness([1, 0, 1, 1, 0, 0, 1, 0, 1, 0]) = 2.717\n",
      "Generation 55, New Best fitness([1, 0, 1, 1, 0, 0, 1, 0, 1, 0]) = 2.717\n",
      "Generation 56, New Best fitness([1, 0, 1, 1, 0, 0, 1, 0, 1, 0]) = 2.717\n",
      "Generation 57, New Best fitness([1, 0, 1, 1, 0, 0, 1, 0, 1, 0]) = 2.717\n",
      "Generation 58, New Best fitness([1, 0, 1, 1, 0, 0, 1, 0, 1, 0]) = 2.717\n",
      "Generation 59, New Best fitness([1, 0, 1, 1, 0, 0, 1, 0, 1, 0]) = 2.717\n",
      "GENETIC ALGORITHM IMPLEMENTED\n",
      "fitness([0, 0, 1, 0, 1, 1, 1, 0, 1, 0]) = 2.734200\n"
     ]
    }
   ],
   "source": [
    "# define the total iterations\n",
    "n_iter = 60\n",
    "# bits\n",
    "n_bits = 10\n",
    "# define the population size\n",
    "n_pop = 8\n",
    "# crossover rate\n",
    "r_cross = 0.8\n",
    "# mutation rate\n",
    "r_mut = 0.006\n",
    "best, score = genetic_algorithm(fitness, n_bits, n_iter, n_pop, r_cross, r_mut)\n",
    "print('GENETIC ALGORITHM IMPLEMENTED')\n",
    "print('fitness(%s) = %f' % (best, score))"
   ]
  },
  {
   "cell_type": "code",
   "execution_count": 65,
   "metadata": {},
   "outputs": [
    {
     "name": "stdout",
     "output_type": "stream",
     "text": [
      "[0, 0, 1, 0, 1, 1, 1, 0, 1, 0]\n"
     ]
    }
   ],
   "source": [
    "print(best)"
   ]
  },
  {
   "cell_type": "code",
   "execution_count": 67,
   "metadata": {},
   "outputs": [
    {
     "data": {
      "text/plain": [
       "51"
      ]
     },
     "execution_count": 67,
     "metadata": {},
     "output_type": "execute_result"
    }
   ],
   "source": [
    "validation(best)"
   ]
  },
  {
   "cell_type": "code",
   "execution_count": 66,
   "metadata": {},
   "outputs": [
    {
     "name": "stdout",
     "output_type": "stream",
     "text": [
      "2.7342000000000004\n"
     ]
    }
   ],
   "source": [
    "print(score)"
   ]
  }
 ],
 "metadata": {
  "colab": {
   "collapsed_sections": [],
   "name": "OHM_Term_Project.ipynb",
   "provenance": []
  },
  "kernelspec": {
   "display_name": "Python 3",
   "language": "python",
   "name": "python3"
  },
  "language_info": {
   "codemirror_mode": {
    "name": "ipython",
    "version": 3
   },
   "file_extension": ".py",
   "mimetype": "text/x-python",
   "name": "python",
   "nbconvert_exporter": "python",
   "pygments_lexer": "ipython3",
   "version": "3.7.3"
  }
 },
 "nbformat": 4,
 "nbformat_minor": 1
}
