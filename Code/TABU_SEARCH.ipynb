{
 "cells": [
  {
   "cell_type": "code",
   "execution_count": 13,
   "metadata": {},
   "outputs": [],
   "source": [
    "from numpy.random import randint\n",
    "from numpy.random import rand\n",
    "import pandas as pd\n",
    "import random as rd\n",
    "from itertools import combinations\n",
    "import math\n",
    "#format of the data \n",
    "#[Loan Size(L), interest(rl),rating, loss(lambda)]\n",
    "#Customers details provided in the question \n",
    "customers = [[10,0.021,'AAA',0.0002],\n",
    "             [25,0.022,'BB',0.0058],\n",
    "             [4,0.021,'A',0.001],\n",
    "             [11,0.027,'AA',0.0003],\n",
    "             [18,0.025,'BBB',0.0024],\n",
    "             [3,0.026,'AAA',0.0002],\n",
    "             [17,0.023,'BB',0.0058],\n",
    "             [15,0.021,'AAA',0.0002],\n",
    "             [9,0.028,'A',0.001],\n",
    "             [10,0.022,'A',0.001]             \n",
    "    \n",
    "]\n",
    "D = 60\n",
    "K = 0.15\n",
    "initial_sol=[1,0,0,1,0,1,0,1,0,1]"
   ]
  },
  {
   "cell_type": "code",
   "execution_count": 14,
   "metadata": {},
   "outputs": [],
   "source": [
    "# objective function (Basically fitness function)\n",
    "# rl * L  - lambda +  rt*Transactional cost  - 0.009*D - lambda\n",
    "def fitness(x):\n",
    "  sum  = -0.009*D\n",
    "  for i in range(0,10):\n",
    "    if x[i] == 1:\n",
    "      sum = sum + customers[i][1]*customers[i][0] - 2*customers[i][3] + 0.01 * ((1-K)*D - customers[i][0]) \n",
    "  return (sum)"
   ]
  },
  {
   "cell_type": "code",
   "execution_count": 15,
   "metadata": {},
   "outputs": [],
   "source": [
    "#Genetic Validation\n",
    "def geneticvalidation(x):\n",
    "  sum = 0\n",
    "  for i in range(0,10):\n",
    "    if x[i] == 1:\n",
    "      sum = sum + customers[i][0] \n",
    "  return (sum)  "
   ]
  },
  {
   "cell_type": "code",
   "execution_count": 16,
   "metadata": {},
   "outputs": [],
   "source": [
    "#GENERATING THE NEIGHBOURHOOD SOLUTION\n",
    "def SwapMove(solution, i ,j):\n",
    "    solution = solution.copy()\n",
    "    solution[i], solution[j] = solution[j], solution[i]\n",
    "    return solution\n",
    "\n"
   ]
  },
  {
   "cell_type": "code",
   "execution_count": 17,
   "metadata": {},
   "outputs": [],
   "source": [
    "#PREPARING THR TABU STRUCTURE \n",
    "def get_tabuestructure():\n",
    "    #dict = {{3,4}:{'ITERATIONS': 0,'FITNESS': 0}}\n",
    "    dict = {}\n",
    "    instance_dict = (0,1,2,3,4,5,6,7,8,9)\n",
    "    for swap in combinations(instance_dict, 2):\n",
    "        dict[swap] = {'ITERATIONS': 0, 'FITNESS': 0}\n",
    "    return dict"
   ]
  },
  {
   "cell_type": "code",
   "execution_count": 18,
   "metadata": {},
   "outputs": [],
   "source": [
    "def TabuSearch(initial_sol):\n",
    "    tenure=4\n",
    "    tabu_structure = get_tabuestructure() \n",
    "    best_solution=initial_sol\n",
    "    best_objvalue=fitness(initial_sol)\n",
    "    current_solution=initial_sol\n",
    "    current_objvalue=fitness(initial_sol)\n",
    "    iter = 1\n",
    "    Terminate = 0\n",
    "    while  Terminate < 10 and iter < 100:\n",
    "        for move in tabu_structure:\n",
    "            candidate_solution = SwapMove(current_solution, move[0], move[1])\n",
    "            candidate_objvalue = fitness(candidate_solution)\n",
    "            #validation\n",
    "            if(geneticvalidation(candidate_solution)<= (1-K)*D):\n",
    "              tabu_structure[move]['FITNESS'] = candidate_objvalue\n",
    "            else:\n",
    "              tabu_structure[move]['FITNESS'] = 0\n",
    "        # Admissible move\n",
    "        while True:\n",
    "            # select the move with the Highest ObjValue in the neighborhood (minimization)\n",
    "            best_move = max(tabu_structure, key =lambda x: tabu_structure[x]['FITNESS'])\n",
    "            MoveValue = tabu_structure[best_move][\"FITNESS\"]\n",
    "            tabu_time = tabu_structure[best_move][\"ITERATIONS\"]\n",
    "            # Not Tabu\n",
    "            if tabu_time < iter:\n",
    "                # make the move\n",
    "                current_solution = SwapMove(current_solution, best_move[0], best_move[1])\n",
    "                current_objvalue = fitness(current_solution)\n",
    "                # Best Improving move\n",
    "                if MoveValue > best_objvalue:\n",
    "                    best_solution = current_solution\n",
    "                    best_objvalue = current_objvalue\n",
    "                    Terminate = 0\n",
    "                else:\n",
    "                    Terminate += 1\n",
    "                # update tabu_time for the move\n",
    "                tabu_structure[best_move]['ITERATIONS'] = iter + tenure\n",
    "                iter += 1\n",
    "                break\n",
    "            # If tabu\n",
    "            else:\n",
    "                # Aspiration\n",
    "                if MoveValue > best_objvalue:\n",
    "                    # make the move\n",
    "                    current_solution = SwapMove(current_solution, best_move[0], best_move[1])\n",
    "                    current_objvalue = fitness(current_solution)\n",
    "                    best_solution = current_solution\n",
    "                    best_objvalue = current_objvalue\n",
    "                    Terminate = 0\n",
    "                    iter += 1\n",
    "                    break\n",
    "                else:\n",
    "                    tabu_structure[best_move][\"FITNESS\"] = 0\n",
    "                    continue\n",
    "    return best_solution"
   ]
  },
  {
   "cell_type": "code",
   "execution_count": 19,
   "metadata": {},
   "outputs": [
    {
     "name": "stdout",
     "output_type": "stream",
     "text": [
      "[0, 0, 0, 1, 1, 1, 0, 0, 1, 1] 2.6362000000000005\n"
     ]
    }
   ],
   "source": [
    "beste = TabuSearch(initial_sol)\n",
    "print(beste, fitness(initial_sol))"
   ]
  },
  {
   "cell_type": "code",
   "execution_count": 20,
   "metadata": {},
   "outputs": [
    {
     "data": {
      "text/plain": [
       "51"
      ]
     },
     "execution_count": 20,
     "metadata": {},
     "output_type": "execute_result"
    }
   ],
   "source": [
    "validation(beste)"
   ]
  },
  {
   "cell_type": "code",
   "execution_count": null,
   "metadata": {},
   "outputs": [],
   "source": []
  }
 ],
 "metadata": {
  "kernelspec": {
   "display_name": "Python 3",
   "language": "python",
   "name": "python3"
  },
  "language_info": {
   "codemirror_mode": {
    "name": "ipython",
    "version": 3
   },
   "file_extension": ".py",
   "mimetype": "text/x-python",
   "name": "python",
   "nbconvert_exporter": "python",
   "pygments_lexer": "ipython3",
   "version": "3.7.3"
  }
 },
 "nbformat": 4,
 "nbformat_minor": 4
}
